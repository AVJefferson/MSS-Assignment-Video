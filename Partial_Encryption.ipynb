{
 "cells": [
  {
   "cell_type": "code",
   "execution_count": 1,
   "metadata": {},
   "outputs": [],
   "source": [
    "import sys\n",
    "import cv2\n",
    "import numpy as np\n",
    "import pickle\n",
    "import os"
   ]
  },
  {
   "attachments": {},
   "cell_type": "markdown",
   "metadata": {},
   "source": [
    "# Diamond Search Algorithm"
   ]
  },
  {
   "cell_type": "code",
   "execution_count": 2,
   "metadata": {},
   "outputs": [],
   "source": [
    "# Set the block size and search window size\n",
    "block_size = 16\n",
    "# search_window_size = 16\n",
    "\n",
    "dx = []\n",
    "dy = []\n",
    "\n",
    "dx.append((0, 0, 0, 1, -1))\n",
    "dy.append((0, 1, -1, 0, 0))\n",
    "\n",
    "dx.append((0, -2, 0, 2, 0, -1, 1, 1, -1))\n",
    "dy.append((0, 0, -2, 0, 2, 1, -1, 1, -1))\n",
    "\n",
    "def ds(ip, pt, cf, sf, bs, lvl):\n",
    "    if lvl == 0:\n",
    "      return pt\n",
    "\n",
    "    x,y = pt\n",
    "    \n",
    "    # Initialize the motion vector to (0, 0)\n",
    "    motion_vector = pt\n",
    "    \n",
    "    # Initialize the minimum SSD to a large value\n",
    "    min_ssd = float('inf')\n",
    "\n",
    "    for i in range (0, 4*lvl + 1):\n",
    "      x1 = x + dx[lvl - 1][i]*bs\n",
    "      y1 = y + dy[lvl - 1][i]*bs\n",
    "      \n",
    "                \n",
    "      try :\n",
    "        \n",
    "        # Extract the candidate block from the search frame\n",
    "        block = cf[ip[1]:ip[1]+bs, ip[0]:ip[0]+bs, :]\n",
    "        candidate_block = sf[y1:y1+bs, x1:x+bs, :]\n",
    "\n",
    "        # Compute the SSD between the block and the candidate block\n",
    "        ssd = np.sum((block - candidate_block)**2)\n",
    "            \n",
    "        # Check if the SSD is smaller than the current minimum SSD\n",
    "        if ssd < min_ssd:\n",
    "            # Update the motion vector and the minimum SSD\n",
    "            motion_vector = (x, y)\n",
    "            min_ssd = ssd\n",
    "      except Exception as e:\n",
    "        continue\n",
    "\n",
    "    if motion_vector == pt:\n",
    "      return ds(ip, pt, cf, sf, bs, lvl - 1)\n",
    "\n",
    "    return ds(ip, motion_vector, cf, sf, bs, lvl)"
   ]
  },
  {
   "attachments": {},
   "cell_type": "markdown",
   "metadata": {},
   "source": [
    "# Compression"
   ]
  },
  {
   "cell_type": "code",
   "execution_count": 3,
   "metadata": {},
   "outputs": [],
   "source": [
    "video_location = 'video.mp4'\n",
    "\n",
    "# Load the MP4 file using OpenCV\n",
    "cap = cv2.VideoCapture(video_location)\n",
    "\n",
    "# Play video\n",
    "while(cap.isOpened()):\n",
    "    ret, frame = cap.read()\n",
    "    if ret == True:\n",
    "        cv2.imshow('frame', frame)\n",
    "        if cv2.waitKey(1) & 0xFF == ord('q'):\n",
    "            break\n",
    "    else:\n",
    "        break\n",
    "\n",
    "# Release everything if job is finished\n",
    "cap.release()\n",
    "cv2.destroyAllWindows()"
   ]
  },
  {
   "cell_type": "code",
   "execution_count": 4,
   "metadata": {},
   "outputs": [
    {
     "name": "stdout",
     "output_type": "stream",
     "text": [
      "width: 640   height:  360   frames: 278\n",
      "Size of uncompressed video in Mega bytes:  183.251953125 MB\n"
     ]
    }
   ],
   "source": [
    "# Load the MP4 file using OpenCV\n",
    "cap = cv2.VideoCapture(video_location)\n",
    "\n",
    "# Get the video dimensions\n",
    "width = int(cap.get(cv2.CAP_PROP_FRAME_WIDTH))\n",
    "height = int(cap.get(cv2.CAP_PROP_FRAME_HEIGHT))\n",
    "frames = int(cap.get(cv2.CAP_PROP_FRAME_COUNT))\n",
    "\n",
    "#print size of video in bytes\n",
    "print (\"width:\", width, \"  height: \", height, \"  frames:\", frames)\n",
    "print(\"Size of uncompressed video in Mega bytes: \", width*height*frames*3 / (1024*1024), \"MB\")"
   ]
  },
  {
   "cell_type": "code",
   "execution_count": 5,
   "metadata": {},
   "outputs": [],
   "source": [
    "# Create a 4D NumPy array to store the video frames\n",
    "video_array = np.empty((frames, height, width, 3), np.dtype('uint8'))\n",
    "\n",
    "# Loop through the video frames and store them in the 4D array\n",
    "frame_idx = 0\n",
    "while(cap.isOpened()):\n",
    "    ret, frame = cap.read()\n",
    "    if ret == True:\n",
    "        video_array[frame_idx] = frame\n",
    "        frame_idx += 1\n",
    "    else:\n",
    "        break\n",
    "\n",
    "# Release the video capture object\n",
    "cap.release()"
   ]
  },
  {
   "cell_type": "code",
   "execution_count": 6,
   "metadata": {},
   "outputs": [
    {
     "name": "stdout",
     "output_type": "stream",
     "text": [
      "Done !             \n"
     ]
    }
   ],
   "source": [
    "# Initialize the compressed video array\n",
    "compressed_video = []\n",
    "\n",
    "# Loop through the frames and perform motion estimation and compensation\n",
    "\n",
    "for i in range(0, frames - 2, 3):\n",
    "    motion_vector = []\n",
    "\n",
    "    curr_frame = video_array[i]\n",
    "    compressed_video.append(curr_frame)\n",
    "\n",
    "    try: \n",
    "        next_frame_1 = video_array[i+1]\n",
    "\n",
    "        # Compute the motion vectors for each block using diamond search block matching\n",
    "        for y in range(0, height, block_size):\n",
    "            for x in range(0, width, block_size):\n",
    "                motion_vector.append(ds((x,y), (x,y), curr_frame ,next_frame_1,block_size, 2))\n",
    "\n",
    "        compressed_video.append(tuple(motion_vector))\n",
    "        motion_vector.clear()\n",
    "    \n",
    "        \n",
    "        next_frame_2 = video_array[i+2]\n",
    "\n",
    "        # Compute the motion vectors for each block using diamond search block matching\n",
    "        for y in range(0, height, block_size):\n",
    "            for x in range(0, width, block_size):\n",
    "                motion_vector.append(ds((x,y), (x,y), curr_frame ,next_frame_2,block_size, 2))\n",
    "\n",
    "        compressed_video.append(tuple(motion_vector))\n",
    "    except:\n",
    "        continue\n",
    "\n",
    "    print(\"\\r\", str((i+2)*100//frames) + \"%\", \"(\", i, \"/\", frames, \")\", end='', flush=True)\n",
    "print(\"\\rDone !             \", flush=True)"
   ]
  },
  {
   "cell_type": "code",
   "execution_count": 16,
   "metadata": {},
   "outputs": [
    {
     "name": "stdout",
     "output_type": "stream",
     "text": [
      "0\n"
     ]
    }
   ],
   "source": [
    "print(compressed_video[1][0][0])"
   ]
  },
  {
   "attachments": {},
   "cell_type": "markdown",
   "metadata": {},
   "source": [
    "# Partial Encryption"
   ]
  },
  {
   "cell_type": "code",
   "execution_count": 7,
   "metadata": {},
   "outputs": [],
   "source": [
    "#function for xoring two float values\n",
    "\n",
    "def xor_float(x, y):\n",
    "    x_as_int = x.view(np.int64)\n",
    "    y_as_int = y #y.view(np.int64)\n",
    "    result = x_as_int ^ y_as_int\n",
    "    return  result"
   ]
  },
  {
   "cell_type": "code",
   "execution_count": 8,
   "metadata": {},
   "outputs": [],
   "source": [
    "# function to xor every element of a 3D array with a key\n",
    "def xor_array(arr, key): \n",
    "    for i in range(len(arr)): \n",
    "        for j in range(len(arr[0])): \n",
    "            for k in range(len(arr[0][0])):\n",
    "                arr[i][j][k] = xor_float(arr[i][j][k], key)"
   ]
  },
  {
   "cell_type": "code",
   "execution_count": 9,
   "metadata": {},
   "outputs": [
    {
     "name": "stdout",
     "output_type": "stream",
     "text": [
      "Key:  1234\n"
     ]
    }
   ],
   "source": [
    "# import library to perform dct on rgb image\n",
    "from scipy.fftpack import dct, idct\n",
    "\n",
    "key = 1234\n",
    "\n",
    "# Perform dct on each frame of the video\n",
    "for i in range((len(compressed_video)//12)*3, len(compressed_video), 3):\n",
    "    compressed_video[i] = dct(dct(compressed_video[i], axis=0, norm='ortho'), axis=1, norm='ortho')\n",
    "\n",
    "    # Perform encryption using a key on dct coefficients  float value of each frame\n",
    "    xor_array(compressed_video[i], key)\n",
    "\n",
    "print(\"Key: \", key)"
   ]
  },
  {
   "cell_type": "code",
   "execution_count": 10,
   "metadata": {},
   "outputs": [
    {
     "name": "stdout",
     "output_type": "stream",
     "text": [
      "Size of Uncompressed video  =  183.251953125 MB\n",
      "size of Compressed Video    =  380.14802646636963 MB\n",
      "Compression ratio           =  2.0744555241223686\n"
     ]
    }
   ],
   "source": [
    "# Open a file for writing\n",
    "with open(\"compressed.mvd\", 'wb') as f:\n",
    "    # Use pickle to serialize and save the object to the file\n",
    "    if type(compressed_video) is not None:\n",
    "        pickle.dump(compressed_video, f)\n",
    "    else:\n",
    "        print(\"Error: No video to save\")\n",
    "\n",
    "print(\"Size of Uncompressed video  = \", width*height*frames*3 / (1024*1024), \"MB\")\n",
    "print(\"size of Compressed Video    = \", os.path.getsize(\"compressed.mvd\") / (1024*1024), \"MB\")\n",
    "print(\"Compression ratio           = \", os.path.getsize(\"compressed.mvd\")/(width*height*frames*3))"
   ]
  },
  {
   "cell_type": "markdown",
   "metadata": {},
   "source": [
    "# Partial Decryption"
   ]
  },
  {
   "attachments": {},
   "cell_type": "markdown",
   "metadata": {},
   "source": [
    "### Loading From File"
   ]
  },
  {
   "cell_type": "code",
   "execution_count": 11,
   "metadata": {},
   "outputs": [],
   "source": [
    "# Open the compressed MVD file for reading\n",
    "with open(\"compressed.mvd\", 'rb') as f:\n",
    "    # Use pickle to load the object from the file\n",
    "    compressed_video = pickle.load(f)"
   ]
  },
  {
   "attachments": {},
   "cell_type": "markdown",
   "metadata": {},
   "source": [
    "### Performing IDCT and Decrypting using Key"
   ]
  },
  {
   "cell_type": "code",
   "execution_count": 12,
   "metadata": {},
   "outputs": [],
   "source": [
    "# Decrpyt the dct coefficients\n",
    "key = 1234\n",
    "\n",
    "for i in range((len(compressed_video)//12)*3, len(compressed_video), 3):\n",
    "    xor_array(compressed_video[i], key)\n",
    "    for l in range(len(compressed_video[i])): \n",
    "        for j in range(len(compressed_video[i][0])): \n",
    "            for k in range(len(compressed_video[i][0][0])):\n",
    "                compressed_video[i][l][j][k] = compressed_video[i][l][j][k].view(np.float64)\n",
    "    \n",
    "\n",
    "    compressed_video[i] = idct(idct(compressed_video[i], axis=0, norm='ortho'), axis=1, norm='ortho')"
   ]
  },
  {
   "attachments": {},
   "cell_type": "markdown",
   "metadata": {},
   "source": [
    "# Decompression"
   ]
  },
  {
   "cell_type": "code",
   "execution_count": 13,
   "metadata": {},
   "outputs": [
    {
     "name": "stdout",
     "output_type": "stream",
     "text": [
      "frames: 276\n",
      "Done !             2% ( 144 / 276 )\n"
     ]
    }
   ],
   "source": [
    "frames = len(compressed_video)\n",
    "decompressed_video = []\n",
    "\n",
    "print(\"frames:\", frames)\n",
    "\n",
    "for i in range(0, frames - 2, 3):\n",
    "    org_frame = compressed_video[i]\n",
    "    decompressed_video.append(org_frame)\n",
    "    try:\n",
    "      motion_vector = compressed_video[i+1]\n",
    "      curr_frame = np.zeros_like(org_frame)\n",
    "\n",
    "      idx = 0\n",
    "\n",
    "      for y in range(0, height, block_size):\n",
    "          for x in range(0, width, block_size):\n",
    "              x1, y1 = motion_vector[idx]\n",
    "              idx = idx + 1\n",
    "              curr_frame[y:y+block_size, x:x+block_size, :] = org_frame[y1:y1+block_size, x1:x1+block_size, :]\n",
    "\n",
    "      decompressed_video.append(curr_frame)\n",
    "\n",
    "      motion_vector = compressed_video[i+2]\n",
    "      curr_frame = np.zeros_like(org_frame)\n",
    "      idx = 0\n",
    "\n",
    "      for y in range(0, height, block_size):\n",
    "          for x in range(0, width, block_size):\n",
    "              x1, y1 = motion_vector[idx]\n",
    "              idx = idx + 1\n",
    "              curr_frame[y:y+block_size, x:x+block_size, :] = org_frame[y1:y1+block_size, x1:x1+block_size, :]\n",
    "\n",
    "      decompressed_video.append(curr_frame)\n",
    "    \n",
    "    except Exception as e:\n",
    "      print (e)\n",
    "      continue\n",
    "    print(\"\\r\", str((i+2)*100//frames) + \"%\", \"(\", i, \"/\", frames, \")\", end='', flush=True)\n",
    "print(\"\\rDone !             \", flush=True)"
   ]
  },
  {
   "cell_type": "code",
   "execution_count": 14,
   "metadata": {},
   "outputs": [
    {
     "name": "stdout",
     "output_type": "stream",
     "text": [
      "(360, 640, 3, 276)\n"
     ]
    }
   ],
   "source": [
    "# Transpose the array to change the order of dimensions\n",
    "decompressed_video_t = np.moveaxis(np.array(decompressed_video), [0, 1, 2, 3], [3, 0, 1, 2])\n",
    "print(decompressed_video_t.shape)"
   ]
  },
  {
   "cell_type": "code",
   "execution_count": 15,
   "metadata": {},
   "outputs": [],
   "source": [
    "# Set the frame rate of the video\n",
    "fps = 30\n",
    "\n",
    "# Create a window to display the video\n",
    "cv2.namedWindow(\"Video\")\n",
    "\n",
    "# Iterate over the frames of the video\n",
    "for i in range(decompressed_video_t.shape[3]):\n",
    "\n",
    "    # Extract the current frame from the array\n",
    "    frame = decompressed_video_t[:, :, :, i]\n",
    "\n",
    "    # Display the frame in the window\n",
    "    cv2.imshow(\"Video\", frame)\n",
    "\n",
    "    # Wait for a key press and exit if 'q' is pressed\n",
    "    if cv2.waitKey(int(1000/fps)) & 0xFF == ord('q'):\n",
    "        break\n",
    "\n",
    "# Release the video window and exit\n",
    "cv2.destroyAllWindows()\n"
   ]
  }
 ],
 "metadata": {
  "kernelspec": {
   "display_name": "Python 3",
   "language": "python",
   "name": "python3"
  },
  "language_info": {
   "codemirror_mode": {
    "name": "ipython",
    "version": 3
   },
   "file_extension": ".py",
   "mimetype": "text/x-python",
   "name": "python",
   "nbconvert_exporter": "python",
   "pygments_lexer": "ipython3",
   "version": "3.9.13"
  },
  "orig_nbformat": 4,
  "vscode": {
   "interpreter": {
    "hash": "c347c8f9a7ef94e4c9e03b4513be7835ed18f45b99a2a817fb579f408b867b16"
   }
  }
 },
 "nbformat": 4,
 "nbformat_minor": 2
}
